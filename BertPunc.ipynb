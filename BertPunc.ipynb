{
  "nbformat": 4,
  "nbformat_minor": 0,
  "metadata": {
    "kernelspec": {
      "name": "python3",
      "display_name": "Python 3"
    },
    "language_info": {
      "codemirror_mode": {
        "name": "ipython",
        "version": 3
      },
      "file_extension": ".py",
      "mimetype": "text/x-python",
      "name": "python",
      "nbconvert_exporter": "python",
      "pygments_lexer": "ipython3",
      "version": "3.6.7"
    },
    "colab": {
      "name": "BertPunc.ipynb",
      "provenance": [],
      "collapsed_sections": [],
      "include_colab_link": true
    },
    "accelerator": "GPU"
  },
  "cells": [
    {
      "cell_type": "markdown",
      "metadata": {
        "id": "view-in-github",
        "colab_type": "text"
      },
      "source": [
        "<a href=\"https://colab.research.google.com/github/ftk1000/BERT_demos/blob/master/BertPunc.ipynb\" target=\"_parent\"><img src=\"https://colab.research.google.com/assets/colab-badge.svg\" alt=\"Open In Colab\"/></a>"
      ]
    },
    {
      "cell_type": "code",
      "metadata": {
        "id": "BdJ94vONEx1W",
        "colab_type": "code",
        "colab": {}
      },
      "source": [
        "# Edit -> Notebook setting -> hardware accelerator -> GPU"
      ],
      "execution_count": 0,
      "outputs": []
    },
    {
      "cell_type": "markdown",
      "metadata": {
        "id": "KQGT7EcpIsiy",
        "colab_type": "text"
      },
      "source": [
        "# Timing"
      ]
    },
    {
      "cell_type": "code",
      "metadata": {
        "id": "8HONd5q8JEq9",
        "colab_type": "code",
        "colab": {}
      },
      "source": [
        "# for the sake of convenience you can create folder in google drive disk, and put all files from archives to: C:\\Users\\USER_NAME\\Google Drive\\Colab Notebooks\\Punctuation_Restoration\\For_Farid"
      ],
      "execution_count": 0,
      "outputs": []
    },
    {
      "cell_type": "code",
      "metadata": {
        "id": "aqreYD7LZAfc",
        "colab_type": "code",
        "outputId": "943df59a-9c4e-4739-9adb-5acc309af89d",
        "colab": {
          "base_uri": "https://localhost:8080/",
          "height": 122
        }
      },
      "source": [
        "from google.colab import drive\n",
        "drive.mount('/content/drive')"
      ],
      "execution_count": 0,
      "outputs": [
        {
          "output_type": "stream",
          "text": [
            "Go to this URL in a browser: https://accounts.google.com/o/oauth2/auth?client_id=947318989803-6bn6qk8qdgf4n4g3pfee6491hc0brc4i.apps.googleusercontent.com&redirect_uri=urn%3aietf%3awg%3aoauth%3a2.0%3aoob&response_type=code&scope=email%20https%3a%2f%2fwww.googleapis.com%2fauth%2fdocs.test%20https%3a%2f%2fwww.googleapis.com%2fauth%2fdrive%20https%3a%2f%2fwww.googleapis.com%2fauth%2fdrive.photos.readonly%20https%3a%2f%2fwww.googleapis.com%2fauth%2fpeopleapi.readonly\n",
            "\n",
            "Enter your authorization code:\n",
            "··········\n",
            "Mounted at /content/drive\n"
          ],
          "name": "stdout"
        }
      ]
    },
    {
      "cell_type": "code",
      "metadata": {
        "id": "RTlzXmsQZYcl",
        "colab_type": "code",
        "outputId": "7cef5786-cb16-40c1-b73c-4e1c306b42fd",
        "colab": {
          "base_uri": "https://localhost:8080/",
          "height": 68
        }
      },
      "source": [
        "!ls -l"
      ],
      "execution_count": 0,
      "outputs": [
        {
          "output_type": "stream",
          "text": [
            "total 8\n",
            "drwx------ 4 root root 4096 Feb 12 23:02 drive\n",
            "drwxr-xr-x 1 root root 4096 Feb  5 18:37 sample_data\n"
          ],
          "name": "stdout"
        }
      ]
    },
    {
      "cell_type": "code",
      "metadata": {
        "id": "RjCPc81sDFXw",
        "colab_type": "code",
        "outputId": "95db2527-be15-42ce-c536-9d5df87b2ded",
        "colab": {
          "base_uri": "https://localhost:8080/",
          "height": 306
        }
      },
      "source": [
        "!ls -l drive/My\\ Drive/For_Farid\n",
        "%cd drive/My\\ Drive/For_Farid"
      ],
      "execution_count": 0,
      "outputs": [
        {
          "output_type": "stream",
          "text": [
            "total 141487\n",
            "-rw------- 1 root root     41361 Feb 11 20:48 7k_without_punctuation.txt\n",
            "-rw------- 1 root root    228754 Feb 12 23:02 BertPunc.ipynb\n",
            "-rw------- 1 root root      1034 Feb 11 20:48 convert_to_readable.py\n",
            "-rw------- 1 root root     10427 Feb 11 20:48 data.py\n",
            "-rw------- 1 root root      8324 Feb 11 20:48 data.pyc\n",
            "-rw------- 1 root root 144456098 Feb 11 20:51 Demo-Europarl-EN.pcl\n",
            "-rw------- 1 root root      6735 Feb 11 20:48 main.py\n",
            "-rw------- 1 root root       656 Feb 11 20:48 model.py\n",
            "-rw------- 1 root root     12155 Feb 11 20:48 models.py\n",
            "-rw------- 1 root root     13876 Feb 11 20:48 models.pyc\n",
            "-rw------- 1 root root     68553 Feb 11 20:48 Punctuator2.ipynb\n",
            "-rw------- 1 root root      5944 Feb 11 20:48 punctuator.py\n",
            "drwx------ 2 root root      4096 Feb 11 20:48 __pycache__\n",
            "drwx------ 2 root root      4096 Feb 11 20:48 results\n",
            "-rw------- 1 root root     16827 Feb 11 20:48 timing.docx\n",
            "/content/drive/My Drive/For_Farid\n"
          ],
          "name": "stdout"
        }
      ]
    },
    {
      "cell_type": "code",
      "metadata": {
        "id": "UUtOXjXRZYat",
        "colab_type": "code",
        "colab": {}
      },
      "source": [
        "###%cd drive/My\\ Drive/Colab\\ Notebooks/Punctuation_Restoration/For_Farid"
      ],
      "execution_count": 0,
      "outputs": []
    },
    {
      "cell_type": "code",
      "metadata": {
        "id": "yzTMcV6maADP",
        "colab_type": "code",
        "colab": {}
      },
      "source": [
        "#!dir"
      ],
      "execution_count": 0,
      "outputs": []
    },
    {
      "cell_type": "code",
      "metadata": {
        "id": "wgy188OjZYV_",
        "colab_type": "code",
        "outputId": "e5d89ea7-a74b-4ffc-8886-0ac936bddfda",
        "colab": {
          "base_uri": "https://localhost:8080/",
          "height": 394
        }
      },
      "source": [
        "!pip install pytorch_pretrained_bert"
      ],
      "execution_count": 0,
      "outputs": [
        {
          "output_type": "stream",
          "text": [
            "Collecting pytorch_pretrained_bert\n",
            "\u001b[?25l  Downloading https://files.pythonhosted.org/packages/d7/e0/c08d5553b89973d9a240605b9c12404bcf8227590de62bae27acbcfe076b/pytorch_pretrained_bert-0.6.2-py3-none-any.whl (123kB)\n",
            "\r\u001b[K     |██▋                             | 10kB 27.4MB/s eta 0:00:01\r\u001b[K     |█████▎                          | 20kB 6.5MB/s eta 0:00:01\r\u001b[K     |████████                        | 30kB 7.6MB/s eta 0:00:01\r\u001b[K     |██████████▋                     | 40kB 6.0MB/s eta 0:00:01\r\u001b[K     |█████████████▎                  | 51kB 6.3MB/s eta 0:00:01\r\u001b[K     |███████████████▉                | 61kB 7.5MB/s eta 0:00:01\r\u001b[K     |██████████████████▌             | 71kB 8.1MB/s eta 0:00:01\r\u001b[K     |█████████████████████▏          | 81kB 7.6MB/s eta 0:00:01\r\u001b[K     |███████████████████████▉        | 92kB 8.4MB/s eta 0:00:01\r\u001b[K     |██████████████████████████▌     | 102kB 8.8MB/s eta 0:00:01\r\u001b[K     |█████████████████████████████▏  | 112kB 8.8MB/s eta 0:00:01\r\u001b[K     |███████████████████████████████▊| 122kB 8.8MB/s eta 0:00:01\r\u001b[K     |████████████████████████████████| 133kB 8.8MB/s \n",
            "\u001b[?25hRequirement already satisfied: requests in /usr/local/lib/python3.6/dist-packages (from pytorch_pretrained_bert) (2.21.0)\n",
            "Requirement already satisfied: numpy in /usr/local/lib/python3.6/dist-packages (from pytorch_pretrained_bert) (1.17.5)\n",
            "Requirement already satisfied: tqdm in /usr/local/lib/python3.6/dist-packages (from pytorch_pretrained_bert) (4.28.1)\n",
            "Requirement already satisfied: regex in /usr/local/lib/python3.6/dist-packages (from pytorch_pretrained_bert) (2019.12.20)\n",
            "Requirement already satisfied: boto3 in /usr/local/lib/python3.6/dist-packages (from pytorch_pretrained_bert) (1.11.10)\n",
            "Requirement already satisfied: torch>=0.4.1 in /usr/local/lib/python3.6/dist-packages (from pytorch_pretrained_bert) (1.4.0)\n",
            "Requirement already satisfied: chardet<3.1.0,>=3.0.2 in /usr/local/lib/python3.6/dist-packages (from requests->pytorch_pretrained_bert) (3.0.4)\n",
            "Requirement already satisfied: idna<2.9,>=2.5 in /usr/local/lib/python3.6/dist-packages (from requests->pytorch_pretrained_bert) (2.8)\n",
            "Requirement already satisfied: certifi>=2017.4.17 in /usr/local/lib/python3.6/dist-packages (from requests->pytorch_pretrained_bert) (2019.11.28)\n",
            "Requirement already satisfied: urllib3<1.25,>=1.21.1 in /usr/local/lib/python3.6/dist-packages (from requests->pytorch_pretrained_bert) (1.24.3)\n",
            "Requirement already satisfied: botocore<1.15.0,>=1.14.10 in /usr/local/lib/python3.6/dist-packages (from boto3->pytorch_pretrained_bert) (1.14.10)\n",
            "Requirement already satisfied: s3transfer<0.4.0,>=0.3.0 in /usr/local/lib/python3.6/dist-packages (from boto3->pytorch_pretrained_bert) (0.3.2)\n",
            "Requirement already satisfied: jmespath<1.0.0,>=0.7.1 in /usr/local/lib/python3.6/dist-packages (from boto3->pytorch_pretrained_bert) (0.9.4)\n",
            "Requirement already satisfied: python-dateutil<3.0.0,>=2.1 in /usr/local/lib/python3.6/dist-packages (from botocore<1.15.0,>=1.14.10->boto3->pytorch_pretrained_bert) (2.6.1)\n",
            "Requirement already satisfied: docutils<0.16,>=0.10 in /usr/local/lib/python3.6/dist-packages (from botocore<1.15.0,>=1.14.10->boto3->pytorch_pretrained_bert) (0.15.2)\n",
            "Requirement already satisfied: six>=1.5 in /usr/local/lib/python3.6/dist-packages (from python-dateutil<3.0.0,>=2.1->botocore<1.15.0,>=1.14.10->boto3->pytorch_pretrained_bert) (1.12.0)\n",
            "Installing collected packages: pytorch-pretrained-bert\n",
            "Successfully installed pytorch-pretrained-bert-0.6.2\n"
          ],
          "name": "stdout"
        }
      ]
    },
    {
      "cell_type": "code",
      "metadata": {
        "id": "fC_LMga7ZYTu",
        "colab_type": "code",
        "colab": {}
      },
      "source": [
        "import pandas as pd\n",
        "import numpy as np\n",
        "from glob import glob\n",
        "from pytorch_pretrained_bert import BertTokenizer\n",
        "import torch\n",
        "from torch import nn\n",
        "%matplotlib inline\n",
        "import json\n",
        "from tqdm import tqdm\n",
        "from sklearn import metrics\n",
        "from model import BertPunc\n",
        "# from data import load_file, preprocess_data, create_data_loader\n",
        "from torch.utils.data import TensorDataset, DataLoader"
      ],
      "execution_count": 0,
      "outputs": []
    },
    {
      "cell_type": "code",
      "metadata": {
        "id": "KkFSTD7ZD34M",
        "colab_type": "code",
        "outputId": "871d916e-6cab-4782-a6b9-4647c588b700",
        "colab": {
          "base_uri": "https://localhost:8080/",
          "height": 34
        }
      },
      "source": [
        "print(torch.__version__)"
      ],
      "execution_count": 0,
      "outputs": [
        {
          "output_type": "stream",
          "text": [
            "1.4.0\n"
          ],
          "name": "stdout"
        }
      ]
    },
    {
      "cell_type": "code",
      "metadata": {
        "id": "4RhZXcZEZAag",
        "colab_type": "code",
        "outputId": "5dc6ec81-b440-4281-f899-8267dd85d7df",
        "colab": {
          "base_uri": "https://localhost:8080/",
          "height": 51
        }
      },
      "source": [
        "# If there's a GPU available...\n",
        "if torch.cuda.is_available():    \n",
        "\n",
        "    # Tell PyTorch to use the GPU.    \n",
        "    device = torch.device(\"cuda\")\n",
        "\n",
        "    print('There are %d GPU(s) available.' % torch.cuda.device_count())\n",
        "\n",
        "    print('We will use the GPU:', torch.cuda.get_device_name(0))\n",
        "\n",
        "# If not...\n",
        "else:\n",
        "    print('No GPU available, using the CPU instead.')\n",
        "    device = torch.device(\"cpu\")"
      ],
      "execution_count": 0,
      "outputs": [
        {
          "output_type": "stream",
          "text": [
            "There are 1 GPU(s) available.\n",
            "We will use the GPU: Tesla P4\n"
          ],
          "name": "stdout"
        }
      ]
    },
    {
      "cell_type": "code",
      "metadata": {
        "id": "z29LtwkTswFs",
        "colab_type": "code",
        "colab": {}
      },
      "source": [
        "batch_size = 1024\n",
        "batch_size=128"
      ],
      "execution_count": 0,
      "outputs": []
    },
    {
      "cell_type": "code",
      "metadata": {
        "id": "aIiSBAx0Z6wt",
        "colab_type": "code",
        "outputId": "2c83fe2d-781d-49d7-80b6-743c1e430d08",
        "colab": {
          "base_uri": "https://localhost:8080/",
          "height": 34
        }
      },
      "source": [
        "glob('results/*')"
      ],
      "execution_count": 0,
      "outputs": [
        {
          "output_type": "execute_result",
          "data": {
            "text/plain": [
              "['results/20200206_041031', 'results/20200205_012725']"
            ]
          },
          "metadata": {
            "tags": []
          },
          "execution_count": 41
        }
      ]
    },
    {
      "cell_type": "code",
      "metadata": {
        "id": "iPibHYXTZ7LS",
        "colab_type": "code",
        "colab": {}
      },
      "source": [
        "path = 'results/20200205_012725/'"
      ],
      "execution_count": 0,
      "outputs": []
    },
    {
      "cell_type": "code",
      "metadata": {
        "id": "NZ6Cy9orXuft",
        "colab_type": "code",
        "colab": {}
      },
      "source": [
        "tokenizer = BertTokenizer.from_pretrained('bert-base-uncased', do_lower_case=True)\n",
        "with open(path+'hyperparameters.json', 'r') as f:\n",
        "    hyperparameters = json.load(f)\n",
        "hyperparameters\n",
        "punctuation_enc = {\n",
        "    'O': 0,\n",
        "    'COMMA': 1,\n",
        "    'PERIOD': 2,\n",
        "    'QUESTION': 3\n",
        "}\n",
        "\n",
        "segment_size = hyperparameters['segment_size']"
      ],
      "execution_count": 0,
      "outputs": []
    },
    {
      "cell_type": "code",
      "metadata": {
        "id": "aXY0coG5eVHP",
        "colab_type": "code",
        "colab": {}
      },
      "source": [
        "def load_file(filename):\n",
        "    with open(filename, 'r', encoding=\"utf8\", errors=\"ignore\") as f:  # , encoding='utf-8'\n",
        "        data = f.readlines()\n",
        "    return data"
      ],
      "execution_count": 0,
      "outputs": []
    },
    {
      "cell_type": "code",
      "metadata": {
        "id": "Pz3i1uBZY5l4",
        "colab_type": "code",
        "outputId": "aff3cff6-e978-4660-e0ba-6fede1ae65ad",
        "colab": {
          "base_uri": "https://localhost:8080/",
          "height": 68
        }
      },
      "source": [
        "data_test = load_file('7k_without_punctuation.txt')\n",
        "print(type(data_test))\n",
        "print(len(data_test))\n",
        "print(data_test[0][:50])"
      ],
      "execution_count": 0,
      "outputs": [
        {
          "output_type": "stream",
          "text": [
            "<class 'list'>\n",
            "1\n",
            "To get here we'd spent a day riding motorbikes ove\n"
          ],
          "name": "stdout"
        }
      ]
    },
    {
      "cell_type": "code",
      "metadata": {
        "id": "Hz_FHTnWX_6U",
        "colab_type": "code",
        "outputId": "24c34db9-65a0-4c14-90bc-2a1f821c5939",
        "colab": {
          "base_uri": "https://localhost:8080/",
          "height": 122
        }
      },
      "source": [
        "X = []\n",
        "for line in data_test:\n",
        "    # word = line.split()\n",
        "    # print(word)\n",
        "    tokens = tokenizer.tokenize(line)\n",
        "    print(len(tokens))\n",
        "    print(line[:10])\n",
        "    x = tokenizer.convert_tokens_to_ids(tokens)\n",
        "    if len(x) > 0:\n",
        "        X += x\n",
        "print(X[:10])\n",
        "print(len(X))"
      ],
      "execution_count": 0,
      "outputs": [
        {
          "output_type": "stream",
          "text": [
            "Token indices sequence length is longer than the specified maximum  sequence length for this BERT model (8112 > 512). Running this sequence through BERT will result in indexing errors\n"
          ],
          "name": "stderr"
        },
        {
          "output_type": "stream",
          "text": [
            "8112\n",
            "To get her\n",
            "[2000, 2131, 2182, 2057, 1005, 1040, 2985, 1037, 2154, 5559]\n",
            "8112\n"
          ],
          "name": "stdout"
        }
      ]
    },
    {
      "cell_type": "code",
      "metadata": {
        "id": "zIk46XSAK2cT",
        "colab_type": "code",
        "colab": {}
      },
      "source": [
        ""
      ],
      "execution_count": 0,
      "outputs": []
    },
    {
      "cell_type": "code",
      "metadata": {
        "id": "7fru5KoSgM4g",
        "colab_type": "code",
        "outputId": "f7d16c02-fd6f-44ff-bb77-fa42e879a200",
        "colab": {
          "base_uri": "https://localhost:8080/",
          "height": 68
        }
      },
      "source": [
        "print(' Original: ', data_test[0][:50])\n",
        "print('Tokenized: ', tokens[:10])\n",
        "print('Token IDs: ', X[:10])"
      ],
      "execution_count": 0,
      "outputs": [
        {
          "output_type": "stream",
          "text": [
            " Original:  To get here we'd spent a day riding motorbikes ove\n",
            "Tokenized:  ['to', 'get', 'here', 'we', \"'\", 'd', 'spent', 'a', 'day', 'riding']\n",
            "Token IDs:  [2000, 2131, 2182, 2057, 1005, 1040, 2985, 1037, 2154, 5559]\n"
          ],
          "name": "stdout"
        }
      ]
    },
    {
      "cell_type": "code",
      "metadata": {
        "id": "Z8azHrD1r0JZ",
        "colab_type": "code",
        "colab": {}
      },
      "source": [
        "def insert_target(x, segment_size):\n",
        "\n",
        "    X = []\n",
        "    x_pad = x[-((segment_size-1)//2-1):]+x+x[:segment_size//2]\n",
        "\n",
        "    for i in range(len(x_pad)-segment_size+2):\n",
        "        segment = x_pad[i:i+segment_size-1]\n",
        "        segment.insert((segment_size-1)//2, 0)\n",
        "        X.append(segment)\n",
        "\n",
        "    return np.array(X)"
      ],
      "execution_count": 0,
      "outputs": []
    },
    {
      "cell_type": "code",
      "metadata": {
        "id": "6zK4aGOHh4r7",
        "colab_type": "code",
        "colab": {}
      },
      "source": [
        "X_zero_halfway = insert_target(x, segment_size)"
      ],
      "execution_count": 0,
      "outputs": []
    },
    {
      "cell_type": "code",
      "metadata": {
        "id": "gL2bbsMIjffN",
        "colab_type": "code",
        "outputId": "afb5c072-6958-4749-ad90-efba3a6e46e6",
        "colab": {
          "base_uri": "https://localhost:8080/",
          "height": 51
        }
      },
      "source": [
        "print(type(X_zero_halfway))\n",
        "X_zero_halfway.shape"
      ],
      "execution_count": 0,
      "outputs": [
        {
          "output_type": "stream",
          "text": [
            "<class 'numpy.ndarray'>\n"
          ],
          "name": "stdout"
        },
        {
          "output_type": "execute_result",
          "data": {
            "text/plain": [
              "(8112, 32)"
            ]
          },
          "metadata": {
            "tags": []
          },
          "execution_count": 50
        }
      ]
    },
    {
      "cell_type": "code",
      "metadata": {
        "id": "q1eE1IDPW1li",
        "colab_type": "code",
        "colab": {}
      },
      "source": [
        "# convert to torch's internal format\n",
        "data_set = TensorDataset(torch.from_numpy(X_zero_halfway).long())"
      ],
      "execution_count": 0,
      "outputs": []
    },
    {
      "cell_type": "code",
      "metadata": {
        "id": "r49W2QOrwHO9",
        "colab_type": "code",
        "outputId": "cc6d1981-7e90-4d77-e7f6-3c8f7c71f4f1",
        "colab": {
          "base_uri": "https://localhost:8080/",
          "height": 34
        }
      },
      "source": [
        "print(type(data_set))"
      ],
      "execution_count": 0,
      "outputs": [
        {
          "output_type": "stream",
          "text": [
            "<class 'torch.utils.data.dataset.TensorDataset'>\n"
          ],
          "name": "stdout"
        }
      ]
    },
    {
      "cell_type": "markdown",
      "metadata": {
        "id": "_dRxrdWqKCBp",
        "colab_type": "text"
      },
      "source": [
        "what is a batch? we think it is a matrix of size 1024x32, each entry is a code-word"
      ]
    },
    {
      "cell_type": "code",
      "metadata": {
        "id": "BZlcJ1y-JS8x",
        "colab_type": "code",
        "outputId": "1bc89bed-3fe9-4983-b011-0871815a4e93",
        "colab": {
          "base_uri": "https://localhost:8080/",
          "height": 34
        }
      },
      "source": [
        "print(batch_size)"
      ],
      "execution_count": 0,
      "outputs": [
        {
          "output_type": "stream",
          "text": [
            "128\n"
          ],
          "name": "stdout"
        }
      ]
    },
    {
      "cell_type": "code",
      "metadata": {
        "id": "hPBWVpf9sp6s",
        "colab_type": "code",
        "colab": {}
      },
      "source": [
        "data_loader = DataLoader(data_set, batch_size, shuffle=False)"
      ],
      "execution_count": 0,
      "outputs": []
    },
    {
      "cell_type": "code",
      "metadata": {
        "id": "0c9ag8SMnaiq",
        "colab_type": "code",
        "outputId": "48cdb2ce-3e14-400e-ca60-924eb2acdb0d",
        "colab": {
          "base_uri": "https://localhost:8080/",
          "height": 34
        }
      },
      "source": [
        "type(data_loader)"
      ],
      "execution_count": 0,
      "outputs": [
        {
          "output_type": "execute_result",
          "data": {
            "text/plain": [
              "torch.utils.data.dataloader.DataLoader"
            ]
          },
          "metadata": {
            "tags": []
          },
          "execution_count": 55
        }
      ]
    },
    {
      "cell_type": "code",
      "metadata": {
        "id": "r48sddTRKWgE",
        "colab_type": "code",
        "outputId": "0b271d93-db8a-460a-84d9-3a005a11b5b3",
        "colab": {
          "base_uri": "https://localhost:8080/",
          "height": 34
        }
      },
      "source": [
        "print(punctuation_enc)"
      ],
      "execution_count": 0,
      "outputs": [
        {
          "output_type": "stream",
          "text": [
            "{'O': 0, 'COMMA': 1, 'PERIOD': 2, 'QUESTION': 3}\n"
          ],
          "name": "stdout"
        }
      ]
    },
    {
      "cell_type": "code",
      "metadata": {
        "id": "Kl_b_Z8bqaTD",
        "colab_type": "code",
        "colab": {}
      },
      "source": [
        "output_size = len(punctuation_enc)"
      ],
      "execution_count": 0,
      "outputs": []
    },
    {
      "cell_type": "code",
      "metadata": {
        "id": "W58XSIUbnMSE",
        "colab_type": "code",
        "colab": {}
      },
      "source": [
        "dropout = hyperparameters['dropout']"
      ],
      "execution_count": 0,
      "outputs": []
    },
    {
      "cell_type": "code",
      "metadata": {
        "id": "9ptrj9aLnMbg",
        "colab_type": "code",
        "colab": {}
      },
      "source": [
        "# from torch import nn\n",
        "# from model import BertPunc\n",
        "bert_punc = nn.DataParallel(BertPunc(segment_size, output_size, dropout).cuda())"
      ],
      "execution_count": 0,
      "outputs": []
    },
    {
      "cell_type": "code",
      "metadata": {
        "id": "qC6g7dt1NLGU",
        "colab_type": "code",
        "outputId": "f6c30468-c92e-46c3-f6f0-9b8a1d747195",
        "colab": {
          "base_uri": "https://localhost:8080/",
          "height": 34
        }
      },
      "source": [
        "BertPunc"
      ],
      "execution_count": 0,
      "outputs": [
        {
          "output_type": "execute_result",
          "data": {
            "text/plain": [
              "model.BertPunc"
            ]
          },
          "metadata": {
            "tags": []
          },
          "execution_count": 59
        }
      ]
    },
    {
      "cell_type": "code",
      "metadata": {
        "id": "SxoXimHXLpi0",
        "colab_type": "code",
        "outputId": "a9011487-287d-4827-9874-eec56cf09524",
        "colab": {
          "base_uri": "https://localhost:8080/",
          "height": 34
        }
      },
      "source": [
        "type(bert_punc)"
      ],
      "execution_count": 0,
      "outputs": [
        {
          "output_type": "execute_result",
          "data": {
            "text/plain": [
              "torch.nn.parallel.data_parallel.DataParallel"
            ]
          },
          "metadata": {
            "tags": []
          },
          "execution_count": 60
        }
      ]
    },
    {
      "cell_type": "code",
      "metadata": {
        "id": "WFqTufx_nMfn",
        "colab_type": "code",
        "colab": {}
      },
      "source": [
        "# what is this doing?????\n",
        "\n",
        "# bert_punc.load_state_dict(torch.load(path+'model'))"
      ],
      "execution_count": 0,
      "outputs": []
    },
    {
      "cell_type": "code",
      "metadata": {
        "id": "BJf6kpByovr0",
        "colab_type": "code",
        "colab": {}
      },
      "source": [
        "# evaluate parallelized Bert_Punc\n",
        "bert_punc.eval();"
      ],
      "execution_count": 0,
      "outputs": []
    },
    {
      "cell_type": "code",
      "metadata": {
        "id": "VEKwAryhutOD",
        "colab_type": "code",
        "outputId": "3703a1ea-b769-4053-96b3-b4f192ee1943",
        "colab": {
          "base_uri": "https://localhost:8080/",
          "height": 51
        }
      },
      "source": [
        "for batch in data_loader:\n",
        "    # print(batch)\n",
        "    print(type(batch))\n",
        "    # print(batch[0])\n",
        "    print(type(batch[0]))\n",
        "    break"
      ],
      "execution_count": 0,
      "outputs": [
        {
          "output_type": "stream",
          "text": [
            "<class 'list'>\n",
            "<class 'torch.Tensor'>\n"
          ],
          "name": "stdout"
        }
      ]
    },
    {
      "cell_type": "code",
      "metadata": {
        "id": "LuVWlbpwpulW",
        "colab_type": "code",
        "outputId": "7d6dc9d3-c8fd-416e-8e00-a154904546c0",
        "colab": {
          "base_uri": "https://localhost:8080/",
          "height": 51
        }
      },
      "source": [
        "import time\n",
        "start_time = time.time()\n",
        "\n",
        "pred = []\n",
        "for inputs in tqdm(data_loader):\n",
        "    with torch.no_grad():\n",
        "        inputs = inputs[0].cuda()\n",
        "        output = bert_punc(inputs)\n",
        "        pred += list(output.argmax(dim=1).cpu().data.numpy().flatten())\n",
        "\n",
        "elapsed_time = time.time() - start_time\n",
        "print(time.strftime(\"%H:%M:%S\", time.gmtime(elapsed_time)))"
      ],
      "execution_count": 0,
      "outputs": [
        {
          "output_type": "stream",
          "text": [
            "100%|██████████| 64/64 [00:23<00:00,  3.27it/s]"
          ],
          "name": "stderr"
        },
        {
          "output_type": "stream",
          "text": [
            "00:00:23\n"
          ],
          "name": "stdout"
        },
        {
          "output_type": "stream",
          "text": [
            "\n"
          ],
          "name": "stderr"
        }
      ]
    },
    {
      "cell_type": "code",
      "metadata": {
        "id": "2YviE1OUrcWv",
        "colab_type": "code",
        "outputId": "64674b99-bb7b-4b99-83f2-961df060b82c",
        "colab": {
          "base_uri": "https://localhost:8080/",
          "height": 34
        }
      },
      "source": [
        "print(pred[:20])"
      ],
      "execution_count": 0,
      "outputs": [
        {
          "output_type": "stream",
          "text": [
            "[2, 3, 3, 3, 3, 3, 3, 1, 3, 3, 3, 2, 3, 3, 3, 3, 3, 3, 3, 3]\n"
          ],
          "name": "stdout"
        }
      ]
    },
    {
      "cell_type": "code",
      "metadata": {
        "id": "-BwAqdcBmZLe",
        "colab_type": "code",
        "outputId": "c637ba3f-36e3-4f1e-8b23-1de030ff2fb8",
        "colab": {
          "base_uri": "https://localhost:8080/",
          "height": 34
        }
      },
      "source": [
        "pred.count(0)"
      ],
      "execution_count": 0,
      "outputs": [
        {
          "output_type": "execute_result",
          "data": {
            "text/plain": [
              "12"
            ]
          },
          "metadata": {
            "tags": []
          },
          "execution_count": 65
        }
      ]
    },
    {
      "cell_type": "code",
      "metadata": {
        "id": "TRgb6TWbw-kN",
        "colab_type": "code",
        "outputId": "e2ad2bce-1a9b-44fa-cf32-1f1857e6f55d",
        "colab": {
          "base_uri": "https://localhost:8080/",
          "height": 34
        }
      },
      "source": [
        "pred.count(1)"
      ],
      "execution_count": 0,
      "outputs": [
        {
          "output_type": "execute_result",
          "data": {
            "text/plain": [
              "2676"
            ]
          },
          "metadata": {
            "tags": []
          },
          "execution_count": 66
        }
      ]
    },
    {
      "cell_type": "code",
      "metadata": {
        "id": "ieHVK95sxQWZ",
        "colab_type": "code",
        "outputId": "b7573184-39d3-42d6-aff9-989dc06c3ec8",
        "colab": {
          "base_uri": "https://localhost:8080/",
          "height": 34
        }
      },
      "source": [
        "pred.count(2)"
      ],
      "execution_count": 0,
      "outputs": [
        {
          "output_type": "execute_result",
          "data": {
            "text/plain": [
              "558"
            ]
          },
          "metadata": {
            "tags": []
          },
          "execution_count": 67
        }
      ]
    },
    {
      "cell_type": "code",
      "metadata": {
        "id": "GjjaOaWVxSC5",
        "colab_type": "code",
        "colab": {}
      },
      "source": [
        "# [to be continued]"
      ],
      "execution_count": 0,
      "outputs": []
    }
  ]
}